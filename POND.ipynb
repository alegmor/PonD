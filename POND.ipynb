{
 "cells": [
  {
   "cell_type": "code",
   "execution_count": null,
   "id": "194cec7a",
   "metadata": {},
   "outputs": [],
   "source": [
    "import numpy as np\n",
    "import matplotlib.pyplot as plt\n",
    "import matplotlib.animation as animation\n",
    "import ipywidgets as widgets\n",
    "from ipywidgets import interact\n",
    "\n",
    "# Parameters\n",
    "lx    = 5                       \n",
    "nu    = 0.1                    \n",
    "tau   = 1.0 / (3 * nu + 0.5)    \n",
    "\n",
    "cs    = 1/np.sqrt(3)            \n",
    "rho1  = 0.5\n",
    "rho2  = 1\n",
    "\n",
    "#opposite discrete velocities for HBB\n",
    "c_opp = np.array([0,1,3])\n",
    "\n",
    "f    = np.zeros((Q,lx))\n",
    "rho  = np.array([rho1 for i in range(0,int(lx/2))] + [rho2 for i in range(int(lx/2),lx)])\n"
   ]
  },
  {
   "cell_type": "markdown",
   "id": "079a453f",
   "metadata": {},
   "source": [
    "### A.PonD\n",
    "\n",
    "One dimensional discrete velocities $c_k$ for the $D1Q3$ model"
   ]
  },
  {
   "cell_type": "code",
   "execution_count": 1,
   "id": "33878382",
   "metadata": {},
   "outputs": [],
   "source": [
    "#Discrete velocities ck\n",
    "c = np.array([0,1,-1])\n",
    "D = 1\n",
    "Q = 3"
   ]
  },
  {
   "cell_type": "markdown",
   "id": "eaeb4be0",
   "metadata": {},
   "source": [
    "The model is characterized by the lattice temperature $T_L$ and the weights $\\omega_k$ associated with $c_k$"
   ]
  },
  {
   "cell_type": "code",
   "execution_count": null,
   "id": "646025de",
   "metadata": {},
   "outputs": [],
   "source": [
    "# lattice weights\n",
    "w = np.array([2./3.,1./6.,1./6.])"
   ]
  },
  {
   "cell_type": "markdown",
   "id": "03ce96b6",
   "metadata": {},
   "source": [
    "with $\\omega_k$ are he weights of the Gauss-Hermite quadrature."
   ]
  },
  {
   "cell_type": "markdown",
   "id": "508c0e9b",
   "metadata": {},
   "source": [
    "The particles velocities $v_k$ are defined relative to a reference frame with the discrete velocities $c_k$, specified by the frame velocity $u$ and the reference temperature $T$\n",
    "\n",
    "$$v_k = \\sqrt{\\dfrac{T }{T_L}} c_k+ u$$"
   ]
  },
  {
   "cell_type": "markdown",
   "id": "8a37687b",
   "metadata": {},
   "source": [
    "The co-moving referance frame is specified by the local temperature $T_{ref} = T(x,t)$ and the local flow velocity $u_{ref} = u(x,t)$"
   ]
  },
  {
   "cell_type": "code",
   "execution_count": null,
   "id": "e3a850d0",
   "metadata": {},
   "outputs": [],
   "source": [
    "f    = np.zeros((Q,lx))\n",
    "u    = np.zeros(lx)\n",
    "T    = np.zeros((Q,lx))\n",
    "\n",
    "vk = np.sqrt(T/TL)*c + u"
   ]
  },
  {
   "cell_type": "markdown",
   "id": "05b8961a",
   "metadata": {},
   "source": [
    "### B. Kinetic equations"
   ]
  },
  {
   "cell_type": "markdown",
   "id": "60d46041",
   "metadata": {},
   "source": [
    "Single relaxation time BGK, two-population kinectic model for ideal gas ¿¿with variable adiabatic exponent ??\n",
    "\n",
    "$$\\partial_t f_k + v_k \\cdot \\nabla f_k = \\dfrac{1}{\\tau} (f_k^{eq} - f_k) $$\n",
    "\n",
    "$$\\partial_t f_k + v_k \\cdot \\nabla g_k = \\dfrac{1}{\\tau} (g_k^{eq} - g_k) $$\n",
    "\n",
    "where $f_k^{eq}$ and $g_k^{eq}$ are the local equilibrium distribution functions and $\\tau$ is the relaxation time.\n",
    "\n",
    "In the co-moving reference frame, the equilibrium populations depend only on the density and temperature (Kalikunis et.al 2022)\n",
    "\n",
    "$$f_k^{eq} = \\rho \\omega_i$$\n",
    "\n",
    "$$g_k^{eq} = \\left(C_v- \\dfrac{D}{2}\\right) T \\rho \\omega_i$$"
   ]
  },
  {
   "cell_type": "code",
   "execution_count": null,
   "id": "2861cb32",
   "metadata": {},
   "outputs": [],
   "source": [
    "#add return here        \n",
    "def collision(f,rho,u,tau):\n",
    "    feq = f_eq(rho,u)\n",
    "    Teq = T_eq(rho,u)\n",
    "    f += (1/tau) * (feq - f) \n",
    "    T += (1/taut)* (Teq - T)\n",
    "    \n",
    "    \n",
    "#streaming"
   ]
  },
  {
   "cell_type": "code",
   "execution_count": null,
   "id": "39f228ec",
   "metadata": {},
   "outputs": [],
   "source": [
    "#equilibrium distribution function pseudopotential LBM\n",
    "def f_eq(c,rho,u):\n",
    "    f_eq = np.zeros((Q,lx))\n",
    "    for k in range(Q):\n",
    "        f_eq[k] = rho*w[k]*(1 + 3*(c[k]*u) + 4.5*((c[k]*u)**2) - 1.5*(u**2))\n",
    "    return f_eq\n",
    "\n",
    "def T_eq(rho,u):\n",
    "    T_eq = np.zeros((Q,lx))\n",
    "    for k in range(Q):\n",
    "        T_eq[k] = T*w[k]*(1+3*(c[k]*u))\n",
    "        \n",
    "#vectorized edf\n",
    "feq = w[:,np.newaxis]*rho*(1 + 3*(c[:,np.newaxis]*u) + 4.5*((c[:,np.newaxis]*u)**2) - 1.5*(u**2)) \n",
    "feq"
   ]
  },
  {
   "cell_type": "markdown",
   "id": "ec9f77dc",
   "metadata": {},
   "source": [
    "Local conservation laws for the density $\\rho$, momentum $\\rho u$ and the total energy $\\rho E$ are\n",
    "\n",
    "$$\\rho = \\sum_{k=0}^{Q-1} f_k = \\sum_{k=0}^{Q-1} f_k^{eq} $$\n",
    "\n",
    "$$\\rho u = \\sum_{k=0}^{Q-1} v_k f_k = \\sum_{k=0}^{Q-1} v_ k f_k^{eq} $$\n",
    "\n",
    "$$\\rho E = \\sum_{k=0}^{Q-1} \\dfrac{{v_k}^2}{2} f_k + \\sum_{k=0}^{Q-1} g_k = \\sum_{k=0}^{Q-1}\\dfrac{{v_k}^2}{2}f_k^{eq} + \\sum_{k=0}^{Q-1} g_k^{eq}  $$\n",
    "\n",
    "\n",
    "where the total energy of ideal gas is\n",
    "\n",
    "$$\\rho E = C_v \\rho T + \\dfrac{\\rho u^2}{2}$$\n",
    "\n",
    "with $C_v$ the specific  heat at constant volume."
   ]
  },
  {
   "cell_type": "code",
   "execution_count": null,
   "id": "721e567b",
   "metadata": {},
   "outputs": [],
   "source": [
    "rho   = np.sum(f,axis=0)\n",
    "u     = np.dot(c,f)/rho  \n",
    "rhoE  = np.sum(T,axis=0) + np.sum((vk/2)*f,axis=0)"
   ]
  },
  {
   "cell_type": "markdown",
   "id": "ca6ee1d4",
   "metadata": {},
   "source": [
    "### Reference frame transformation\n",
    "\n",
    "Transformation of population $f_{k}^\\lambda$ with respect to a $\\lambda$-reference to a different reference frame $\\lambda '$ with the discrete velocities $v_k^{\\lambda'}$\n",
    "\n",
    "$$v_k^{\\lambda'} = \\sqrt{\\dfrac{T_{ref}' }{T_L}} c_k+ u_{ref}'$$"
   ]
  },
  {
   "cell_type": "code",
   "execution_count": null,
   "id": "36eddf09",
   "metadata": {},
   "outputs": [],
   "source": [
    "vk = np.sqrt(T/TL)*c + u\n",
    "vk_p = np.sqrt(T_p/TL)*c + u_p"
   ]
  },
  {
   "cell_type": "markdown",
   "id": "21e7eb75",
   "metadata": {},
   "source": [
    "The transformation is a linear operation, based on the moments matching\n",
    "\n",
    "$$f_k^{\\lambda'} = \\mathcal{M}_{\\lambda'}^{-1} \\mathcal{M}_{\\lambda}f^\\lambda = \\mathcal{G}_\\lambda^{\\lambda'} f^\\lambda $$"
   ]
  },
  {
   "cell_type": "code",
   "execution_count": null,
   "id": "a21afe3c",
   "metadata": {},
   "outputs": [],
   "source": [
    "Transfer_Matrix = np.linalg.inv(vk_p)*vk"
   ]
  },
  {
   "cell_type": "markdown",
   "id": "1ef24b84",
   "metadata": {},
   "source": [
    "Populations are reconstructed at a point $x$ and time $t$ using Lagrange interpolation\n",
    "\n",
    "$$f_k^{\\lambda} = \\sum_{s=1}^{p} a_s (x-x_s) \\mathcal{G}_{\\lambda_s}^{\\lambda'} f^{\\lambda_s}(x_s,t) $$"
   ]
  },
  {
   "cell_type": "markdown",
   "id": "55bb5451",
   "metadata": {},
   "source": [
    "$$g_k^{\\lambda} = \\sum_{s=1}^{p} a_s (x-x_s) \\mathcal{G}_{\\lambda_s}^{\\lambda'} g^{\\lambda_s}(x_s,t) $$"
   ]
  },
  {
   "cell_type": "code",
   "execution_count": null,
   "id": "fc484480",
   "metadata": {},
   "outputs": [],
   "source": []
  }
 ],
 "metadata": {
  "kernelspec": {
   "display_name": "Python 3 (ipykernel)",
   "language": "python",
   "name": "python3"
  },
  "language_info": {
   "codemirror_mode": {
    "name": "ipython",
    "version": 3
   },
   "file_extension": ".py",
   "mimetype": "text/x-python",
   "name": "python",
   "nbconvert_exporter": "python",
   "pygments_lexer": "ipython3",
   "version": "3.8.10"
  },
  "latex_envs": {
   "LaTeX_envs_menu_present": true,
   "autoclose": false,
   "autocomplete": true,
   "bibliofile": "biblio.bib",
   "cite_by": "apalike",
   "current_citInitial": 1,
   "eqLabelWithNumbers": true,
   "eqNumInitial": 1,
   "hotkeys": {
    "equation": "Ctrl-E",
    "itemize": "Ctrl-I"
   },
   "labels_anchors": false,
   "latex_user_defs": false,
   "report_style_numbering": false,
   "user_envs_cfg": false
  },
  "varInspector": {
   "cols": {
    "lenName": 16,
    "lenType": 16,
    "lenVar": 40
   },
   "kernels_config": {
    "python": {
     "delete_cmd_postfix": "",
     "delete_cmd_prefix": "del ",
     "library": "var_list.py",
     "varRefreshCmd": "print(var_dic_list())"
    },
    "r": {
     "delete_cmd_postfix": ") ",
     "delete_cmd_prefix": "rm(",
     "library": "var_list.r",
     "varRefreshCmd": "cat(var_dic_list()) "
    }
   },
   "types_to_exclude": [
    "module",
    "function",
    "builtin_function_or_method",
    "instance",
    "_Feature"
   ],
   "window_display": false
  }
 },
 "nbformat": 4,
 "nbformat_minor": 5
}
